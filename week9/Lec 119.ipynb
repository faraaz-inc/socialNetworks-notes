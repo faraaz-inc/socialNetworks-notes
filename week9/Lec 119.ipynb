{
 "cells": [
  {
   "cell_type": "markdown",
   "metadata": {},
   "source": [
    "# Lec 119 - Rich getting richer phenomenon"
   ]
  },
  {
   "cell_type": "markdown",
   "metadata": {},
   "source": [
    "## Preferential Attachment hypothesis"
   ]
  },
  {
   "cell_type": "markdown",
   "metadata": {},
   "source": [
    "- Imagine a classroom, having 3 people a, b and c, to begin with, all three of them are friends of each other.\n",
    "- Now every new person that comes must make 2 friends.\n",
    "- Let us suppose a new person d joins the class and befriends a and c.\n",
    "- Now degree of people are as follows:\n",
    "\n",
    "    ![Classroom](../assets/week9/classroom.png)"
   ]
  },
  {
   "cell_type": "markdown",
   "metadata": {},
   "source": [
    "- Now when a new person comes (e),he/she is now likely to befriend those people who already have many friends.\n",
    "\n",
    "    ![Classroom](../assets/week9/classroom2.png)"
   ]
  },
  {
   "cell_type": "markdown",
   "metadata": {},
   "source": [
    "- The probability of a person making a new friend is directly proportional to the no. friends that they already have."
   ]
  },
  {
   "cell_type": "markdown",
   "metadata": {},
   "source": [
    "- So lets assume the new person e, befriends a and c (those who have the highest probability).\n",
    "- Which means degree of both a and c increase to 4. Hence the probability of a and c making new friends increased once again.\n",
    "- That's how  `Rich keep getting richer`"
   ]
  },
  {
   "cell_type": "markdown",
   "metadata": {},
   "source": [
    "![Rich getting richer](../assets/week9/richRicher.png)"
   ]
  }
 ],
 "metadata": {
  "language_info": {
   "name": "python"
  }
 },
 "nbformat": 4,
 "nbformat_minor": 2
}
