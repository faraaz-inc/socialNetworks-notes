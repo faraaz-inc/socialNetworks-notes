{
 "cells": [
  {
   "cell_type": "markdown",
   "metadata": {},
   "source": [
    "# Lec 116 - Why do Normal Distributions appear?"
   ]
  },
  {
   "cell_type": "markdown",
   "metadata": {},
   "source": [
    "- Lets assume that 10 people pick a number randomly between 1 to 100.\n",
    "- Let the numbers be R1, R2, R3, ... R100\n",
    "- Now add up all these values, lets say we get a sum S.\n",
    "- Minimum value of S = 10, Maximum = 1000"
   ]
  },
  {
   "cell_type": "markdown",
   "metadata": {},
   "source": [
    "- If we analyse this situation, the numbers R1, R2... appear in a \"uniform random\" fashion, but the sum S doesn't.\n",
    "- S follows a Bell Curve.\n",
    "- The graph peaks around 500 (the middle of the range of S)"
   ]
  },
  {
   "cell_type": "markdown",
   "metadata": {},
   "source": [
    "### Crux of the situation\n",
    "\n",
    "- If we plot the sum of random variables on a curve, we get a <b>Normal Distribution</b>.\n",
    "- Thats how we get Normal Distrbution in nature (ex. heights, weights etc)."
   ]
  },
  {
   "cell_type": "markdown",
   "metadata": {},
   "source": [
    "#### Now why does the exponential decreasing graph that we saw in WWW graph emerge?"
   ]
  },
  {
   "cell_type": "markdown",
   "metadata": {},
   "source": [
    "# Lec 117 - Power Law emerges in WWW graph"
   ]
  },
  {
   "cell_type": "markdown",
   "metadata": {},
   "source": [
    "- If we plot the graph of WWW again, having distribution as y-axis and incoming degrees of webpages on the x-axis, we get,\n",
    "\n",
    "    ![Power Law](../assets/week9/powerLaw.png)"
   ]
  },
  {
   "cell_type": "markdown",
   "metadata": {},
   "source": [
    "- Also this graph extends further down the x-axis, denoting that there are webpages with very high incoming degrees.\n",
    "\n",
    "    ![Power Law](../assets/week9/powerLaw2.png)"
   ]
  },
  {
   "cell_type": "markdown",
   "metadata": {},
   "source": [
    "- Power law appears in many situations:\n",
    "    - Distribution of telephonic conversations\n",
    "    - Distribution of song downloads\n",
    "\n",
    "    ![Telephonic Distribution](../assets/week9/telephoneDist.png)"
   ]
  }
 ],
 "metadata": {
  "language_info": {
   "name": "python"
  }
 },
 "nbformat": 4,
 "nbformat_minor": 2
}
