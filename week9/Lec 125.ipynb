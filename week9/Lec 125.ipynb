{
 "cells": [
  {
   "cell_type": "markdown",
   "metadata": {},
   "source": [
    "# Lec 125 - Forced vs random removal of nodes (Attack survivability)"
   ]
  },
  {
   "cell_type": "markdown",
   "metadata": {},
   "source": [
    "- We'll remove the nodes in a graph and then study the effects.\n",
    "- We'll use two strategies to remove the nodes:\n",
    "    - Removing nodes randomly\n",
    "    - Removing those nodes which are highly connected (requires very less iterations)"
   ]
  }
 ],
 "metadata": {
  "language_info": {
   "name": "python"
  }
 },
 "nbformat": 4,
 "nbformat_minor": 2
}
