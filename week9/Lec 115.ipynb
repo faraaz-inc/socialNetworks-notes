{
 "cells": [
  {
   "cell_type": "markdown",
   "metadata": {},
   "source": [
    "# Lec 115 - Introduction to Power Law and Normal Distribution"
   ]
  },
  {
   "cell_type": "markdown",
   "metadata": {},
   "source": [
    "- If we move to a new city and analyse everyone's height in the city.\n",
    "- If we plot a graph of % of people vs height. We get a <b>Normal Distribution</b>\n",
    "- This curve is called a <b>Bell Curve</b>\n",
    "\n",
    "    ![Normal Distribution](../assets/week9/normalDist.png)"
   ]
  },
  {
   "cell_type": "markdown",
   "metadata": {},
   "source": [
    "- Now lets plot a similar graph in a network.\n",
    "\n",
    "    ![Network curve](../assets/week9/networkCurve.png)"
   ]
  },
  {
   "cell_type": "markdown",
   "metadata": {},
   "source": [
    "- Lets construct a graph having 1000 nodes with the probability of two nodes connected being 0.1\n",
    "- If we plot the degree distribution of this graph, we get a Bell Curve.\n",
    "\n",
    "    ![Net curve](../assets/week9/networkCurve2.png)"
   ]
  },
  {
   "cell_type": "markdown",
   "metadata": {},
   "source": [
    "- In the 90s, people studied the graph of World Wide Web, and plotted the degree distribution of it.\n",
    "- To everyone's surprise, the curve was nowhere near a Bell Curve, instead it eas exponentially decreasing.\n",
    "\n",
    "    ![WWW Curve](../assets/week9/wwwCurve.png)"
   ]
  },
  {
   "cell_type": "markdown",
   "metadata": {},
   "source": [
    "- Why did this happen?"
   ]
  }
 ],
 "metadata": {
  "language_info": {
   "name": "python"
  }
 },
 "nbformat": 4,
 "nbformat_minor": 2
}
