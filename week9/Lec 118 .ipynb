{
 "cells": [
  {
   "cell_type": "markdown",
   "metadata": {},
   "source": [
    "# Lec 118 - Detecting the presence of Power Law"
   ]
  },
  {
   "cell_type": "markdown",
   "metadata": {},
   "source": [
    "- The WWW graph that we saw earlier had the exponential factor of 2\n",
    "- Which means the curve was <pre> f(k) = 1/k^2 </pre>\n",
    "- The exponential factor is usually between 2 and 3."
   ]
  },
  {
   "cell_type": "markdown",
   "metadata": {},
   "source": [
    "- Assuming a general equation, f(k) = 1/k^alpha\n",
    "- If we plot the graph after taking log on both sides of the equation and having,\n",
    "    <pre>\n",
    "        log(f(k)) --> y-axis \n",
    "        log(k)    --> x-axis\n",
    "    </pre>\n",
    "    we get a straight line.\n",
    "    ![Presence of Power Law](../assets/week9/presencePowerLaw.png)\n",
    "    \n",
    "    ![Presence of Power Law](../assets/week9/presencePowerLaw2.png)"
   ]
  },
  {
   "cell_type": "markdown",
   "metadata": {},
   "source": [
    "### Conlcusion\n",
    "\n",
    "- If one plots the graph having,\n",
    "    <pre>\n",
    "        log(f(k)) --> y-axis \n",
    "        log(k)    --> x-axis\n",
    "    </pre>\n",
    "    and observes a straigh line, then the data shows Power Law\n",
    "\n",
    "##### Why can't we just observe the exponentially decreasing graph and conclude that its exhibiting Power Law?\n",
    "\n",
    "- The decreasing graph could be anything, not necessarily of the form 1/k^alpha"
   ]
  }
 ],
 "metadata": {
  "language_info": {
   "name": "python"
  }
 },
 "nbformat": 4,
 "nbformat_minor": 2
}
