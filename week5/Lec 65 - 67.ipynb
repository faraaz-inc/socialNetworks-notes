{
 "cells": [
  {
   "cell_type": "markdown",
   "id": "6ddb6a36",
   "metadata": {},
   "source": [
    "# Lec 65 - Characterizing the structure of balanced networks"
   ]
  },
  {
   "cell_type": "markdown",
   "id": "0bb15e8f",
   "metadata": {},
   "source": [
    "- Lets see how these positive and negative relations have an effect in a big organisation."
   ]
  },
  {
   "cell_type": "markdown",
   "id": "300429be",
   "metadata": {},
   "source": [
    "- Lets say there are 30 people in an organisation, assuming they all know each other, it will be a complete graph.\n",
    "- Roughly there will be 450 edges (`30C2`)\n",
    "- All the relationship triangles here will move towards a stable state.\n",
    "\n",
    "    ![](../assets/week5/org.png)"
   ]
  },
  {
   "cell_type": "markdown",
   "id": "b6edbb78",
   "metadata": {},
   "source": [
    "- How would the graph look like when there are no stable state?"
   ]
  },
  {
   "cell_type": "markdown",
   "id": "f0dfaf0e",
   "metadata": {},
   "source": [
    "<i>`One rotten fish spoils the entire pond`</i>"
   ]
  },
  {
   "cell_type": "markdown",
   "id": "2f9f574d",
   "metadata": {},
   "source": [
    "- If lets say all those relationships are positive (all 450), try to put one negative friendship there and see what happens.\n",
    "- One negative friendship in a triad leads to one more friendship becoming negative, and then it cascades through the network.\n",
    "- But in this case, not all the friendships in the network will become negative.\n",
    "- If there forms a triad having 3 negatives, it will lead to a positive friendship being created."
   ]
  },
  {
   "cell_type": "markdown",
   "id": "b4fb75fb",
   "metadata": {},
   "source": [
    "# Lec 66 - Balance Theorem"
   ]
  },
  {
   "cell_type": "markdown",
   "id": "39044486",
   "metadata": {},
   "source": [
    "- Imagine there'a a boxing ring with 3 people, and all three are trying to fight each other\n",
    "- There will be chaos in this situation, unless two people tem up and beat the s#it out of the 3rd one."
   ]
  },
  {
   "cell_type": "markdown",
   "id": "b3ea2663",
   "metadata": {},
   "source": [
    "- In groups as well, fights are generally between two teams and not three.\n",
    "\n",
    "    ![](../assets/week5/ww.png)"
   ]
  },
  {
   "cell_type": "markdown",
   "id": "a295b7d1",
   "metadata": {},
   "source": [
    "The same phoenomenon is at play here,<br><br>\n",
    "`Enemy's enemy is a friend`"
   ]
  },
  {
   "cell_type": "markdown",
   "id": "9ad247f9",
   "metadata": {},
   "source": [
    "Let's look at this mathematically"
   ]
  },
  {
   "cell_type": "markdown",
   "id": "722d2e13",
   "metadata": {},
   "source": [
    "# Lec 67 - Proof of Balance Theorem"
   ]
  },
  {
   "cell_type": "markdown",
   "id": "9ac0e947",
   "metadata": {},
   "source": [
    "- Let's say there is a complete graph of 20 nodes. Some relations are positive while some are negative.\n",
    "- This may not be structurally balanced.\n",
    "\n",
    "    ![](../assets/week5/balance.png)"
   ]
  },
  {
   "cell_type": "markdown",
   "id": "a8ee8ef9",
   "metadata": {},
   "source": [
    "- If all the edges were positive, then this graph would be structurally balanced."
   ]
  },
  {
   "cell_type": "markdown",
   "id": "7cd45a47",
   "metadata": {},
   "source": [
    "- But is it possible to have a graph with negative edges as well to be structurally balanced?\n",
    "- If we iteratively try to balance the above graph, we will eventually converge to the following graph,\n",
    "\n",
    "    ![](../assets/week5/balance2.png)"
   ]
  },
  {
   "cell_type": "markdown",
   "id": "16774a64",
   "metadata": {},
   "source": [
    "- The graph has 2 teams, the friendships within the teams are positive, the friendships across are negative.\n",
    "- There is no unstable triad in this entire graph."
   ]
  },
  {
   "cell_type": "markdown",
   "id": "504d24ca",
   "metadata": {},
   "source": [
    "These are the only two situations that can happen in a structurally balanced graph:\n",
    "- Either it has two teams\n",
    "- Or a single team\n",
    "\n",
    "Nothing else\n",
    "\n",
    "![](../assets/week5/balance3.png)"
   ]
  },
  {
   "cell_type": "markdown",
   "id": "161452a1",
   "metadata": {},
   "source": [
    "Lets prove this"
   ]
  },
  {
   "cell_type": "markdown",
   "id": "047f5a46",
   "metadata": {},
   "source": [
    "- Imagine a complete graph having 100 nodes. Assume that the entire graph is stable.\n",
    "- Lets pick one node from here and call it X. X will have 99 edges as the graph is complete. Some positive and some negative.\n",
    "- Now assume that there are 70 positive edges and 29 negative edges.\n",
    "\n",
    "    ![](../assets/week5/balance4.png)"
   ]
  },
  {
   "cell_type": "markdown",
   "id": "42cb8ec4",
   "metadata": {},
   "source": [
    "- The left side nodes (alpha, beta....) who are connected by negative edge, cannot have a negative edge amongst them, since the graph is stable.\n",
    "- Likewise, the right hand side nodes (A, B, ...) who are connected by positive edges cannot have any negative edge between them.\n",
    "- <i><b>Hence it is bound to have two clusters connected across by negative edges.</b></i>\n",
    "\n",
    "    ![](../assets/week5/balance5.png)"
   ]
  }
 ],
 "metadata": {
  "language_info": {
   "name": "python"
  }
 },
 "nbformat": 4,
 "nbformat_minor": 5
}
