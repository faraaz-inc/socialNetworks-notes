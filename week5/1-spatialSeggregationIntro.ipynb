{
 "cells": [
  {
   "cell_type": "markdown",
   "metadata": {},
   "source": [
    "# Spatial Segregation Introduction"
   ]
  },
  {
   "cell_type": "markdown",
   "metadata": {},
   "source": [
    "# An Observation\n",
    "- People are known to go and occupy places randomly, then they start segregating themselves.\n",
    "- People surrounded by others who are not their type are likely to migrate.\n",
    "- People are likely to stay in a neighbourhood if atleast there are some T (threshold) no. of people who are like them, otherwise they will probably migrate\n",
    "\n",
    "![Spatial Seggregation](../assets/week5/spatialSeggregation.png)"
   ]
  }
 ],
 "metadata": {
  "language_info": {
   "name": "python"
  }
 },
 "nbformat": 4,
 "nbformat_minor": 2
}
