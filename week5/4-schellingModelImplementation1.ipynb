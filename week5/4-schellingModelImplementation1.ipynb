{
 "cells": [
  {
   "cell_type": "markdown",
   "metadata": {},
   "source": [
    "## Schelling Model Brief\n",
    "- If a person is surrounded by less than T no. of people, such person is known as an unsatisfied person and is likely to migrate to a happier place.\n",
    "\n",
    "    ![Schelling Model](../assets/week5/schellingModel.png)"
   ]
  }
 ],
 "metadata": {
  "language_info": {
   "name": "python"
  }
 },
 "nbformat": 4,
 "nbformat_minor": 2
}
