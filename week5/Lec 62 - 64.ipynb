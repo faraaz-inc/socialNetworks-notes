{
 "cells": [
  {
   "cell_type": "markdown",
   "id": "cc527cc2",
   "metadata": {},
   "source": [
    "# Lec 62 - Positive and Negative relationships"
   ]
  },
  {
   "cell_type": "markdown",
   "id": "e1f482f1",
   "metadata": {},
   "source": [
    "- In our lives, we make many friends. Some of them are good and some are not so good.\n",
    "\n",
    "    ![](../assets/week5/positiveNegative.png)"
   ]
  },
  {
   "cell_type": "markdown",
   "id": "acd9f665",
   "metadata": {},
   "source": [
    "- The mathematics behind it is rather interesting."
   ]
  },
  {
   "cell_type": "markdown",
   "id": "e1eeaddf",
   "metadata": {},
   "source": [
    "# Lec 63 - Structural Balance"
   ]
  },
  {
   "cell_type": "markdown",
   "id": "51ee8ebb",
   "metadata": {},
   "source": [
    "- Imagine a scenario where there are two friends of yours A and B, and they don't like each other.\n",
    "- If you invite both of them to a party, both of them will not talk to each other.\n",
    "- They both want you to talk to them and not to the other person.\n",
    "- So what can you do here?\n",
    "\n",
    "    ![](../assets/week5/home.png)"
   ]
  },
  {
   "cell_type": "markdown",
   "id": "cdc252c7",
   "metadata": {},
   "source": [
    "- This is a very dangerous situation, which won't last long.\n",
    "- Either A and B become friends or you start hating one of them, this will be a stable situation.\n",
    "- Previous situation was unstable because there was a pressure for the friendship structure to change."
   ]
  },
  {
   "cell_type": "markdown",
   "id": "a7621c58",
   "metadata": {},
   "source": [
    "Lets analyse this in more depth."
   ]
  },
  {
   "cell_type": "markdown",
   "id": "20f40078",
   "metadata": {},
   "source": [
    "- If there are 3 people A, B and C.\n",
    "- There can be 4 cases in this setup:\n",
    "    - 3 friendships (all are friends with each other)\n",
    "    - 2 friendships and 1 hatred.\n",
    "    - 2 hatred and 1 friendship\n",
    "    - All 3 hatreds.\n",
    "- Lets analyse all three one by one, which of them are stable and which are not:"
   ]
  },
  {
   "cell_type": "markdown",
   "id": "99090665",
   "metadata": {},
   "source": [
    "<b>Case 1 : 3 friendships:<b>\n",
    "\n",
    "![](../assets/week5/case1.png)\n",
    "\n",
    "- A happy situation. Very stable"
   ]
  },
  {
   "cell_type": "markdown",
   "id": "5ff0d110",
   "metadata": {},
   "source": [
    "<b> Case 4 : All 3 hate each other </b>\n",
    "\n",
    "![](../assets/week5/case4.png)\n",
    "\n",
    "- Going by the triadic closure,<br>\n",
    "  Is enemy's enemy, also an enemy?"
   ]
  },
  {
   "cell_type": "markdown",
   "id": "37f9cc6d",
   "metadata": {},
   "source": [
    "# Lec 64 - Enemy's enemy is a friend!"
   ]
  },
  {
   "cell_type": "markdown",
   "id": "4b70e3a6",
   "metadata": {},
   "source": [
    "![](../assets/week5/enemy.png)"
   ]
  },
  {
   "cell_type": "markdown",
   "id": "c7cd7a14",
   "metadata": {},
   "source": [
    "- There are a lot of studies to prove this,\n",
    "- If two people struggle together, the bonding between them increases.\n",
    "- Similarly, if two people hate on a common person, they are bound to become friends."
   ]
  },
  {
   "cell_type": "markdown",
   "id": "5b4ca243",
   "metadata": {},
   "source": [
    "- Hence, 3 people hating each other is <b>unstable</b>\n",
    "\n",
    "    ![](../assets/week5/enemy2.png)"
   ]
  },
  {
   "cell_type": "markdown",
   "id": "56c14473",
   "metadata": {},
   "source": [
    "Case 2: 2 friendships and 1 hatred\n",
    "- <b>Unstable</b>\n",
    "\n",
    "    ![](../assets/week5/case2.png)"
   ]
  },
  {
   "cell_type": "markdown",
   "id": "3c063adb",
   "metadata": {},
   "source": [
    "Case 3: 1 friendship and 2 hatreds:\n",
    "- <b>Stable</b>\n",
    "\n",
    "    ![](../assets/week5/case3.png)"
   ]
  }
 ],
 "metadata": {
  "language_info": {
   "name": "python"
  }
 },
 "nbformat": 4,
 "nbformat_minor": 5
}
