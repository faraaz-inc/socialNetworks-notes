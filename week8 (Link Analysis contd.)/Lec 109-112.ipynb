{
 "cells": [
  {
   "cell_type": "markdown",
   "metadata": {},
   "source": [
    "## Lec 109: Matrix Multiplication (Pre req 1)"
   ]
  },
  {
   "cell_type": "markdown",
   "metadata": {},
   "source": [
    "![Matrix Multiplication](../assets/week8/mm.png)"
   ]
  },
  {
   "cell_type": "markdown",
   "metadata": {},
   "source": [
    "![](../assets/week8/mm2.png)"
   ]
  },
  {
   "cell_type": "markdown",
   "metadata": {},
   "source": [
    "- The row matrix [3, 7] when pulled to the unit circle becomes:\n",
    "\n",
    "    ![](../assets/week8/mm3.png)\n",
    "\n",
    "- Here we normalised the value [3, 7] by pulling it to the unit circle."
   ]
  },
  {
   "cell_type": "markdown",
   "metadata": {},
   "source": [
    "- If we do this repeatedly, the matrix values will converge\n",
    "\n",
    "    ![](../assets/week8/mm4.png)\n",
    "\n",
    "    ![](../assets/week8/mm5.png)"
   ]
  },
  {
   "cell_type": "markdown",
   "metadata": {},
   "source": [
    "<b>Conclusion:</b><br>\n",
    "If we keep applying the same matrix to a vector, we will get a constant vector."
   ]
  },
  {
   "cell_type": "markdown",
   "metadata": {},
   "source": [
    "## Lec 111: Addition of 2 vectors (Pre req 2)"
   ]
  },
  {
   "cell_type": "markdown",
   "metadata": {},
   "source": [
    "![](../assets/week8/va.png)\n",
    "\n",
    "- The resultant is closer to the larger vector:\n",
    "\n",
    "![](../assets/week8/va2.png)"
   ]
  },
  {
   "cell_type": "markdown",
   "metadata": {},
   "source": [
    "#### Moral ?\n",
    "- When we add a small and a large vector, the resultant is closer to the direction of the larger vector.\n",
    "    <pre> \n",
    "    Big + small = Something close to big,\n",
    "                  both in amplitude as well as in direction\n",
    "    </pre>"
   ]
  },
  {
   "cell_type": "markdown",
   "metadata": {},
   "source": [
    "## Lec 112: The Details"
   ]
  },
  {
   "cell_type": "markdown",
   "metadata": {},
   "source": [
    "<pre>\n",
    "1. Eigen vector of a matrix 'A' is = lambda * v\n",
    "\n",
    "2. For a 2x2 matrix 'A' we have 2 eigen vectors that are linearly independent\n",
    "</pre>\n",
    "\n",
    "![](../assets/week8/preReq.png)"
   ]
  },
  {
   "cell_type": "markdown",
   "metadata": {},
   "source": [
    "![](../assets/week8/preReq2.png)\n",
    "\n",
    "![](../assets/week8/preReq4.png)\n",
    "\n",
    "- Now repeatedly apply A"
   ]
  },
  {
   "cell_type": "markdown",
   "metadata": {},
   "source": [
    "![](../assets/week8/preReq5.png)\n",
    "\n",
    "![](../assets/week8/preReq6.png)\n",
    "\n",
    "![](../assets/week8/preReq7.png)\n",
    "\n",
    "![](../assets/week8/preReq8.png)"
   ]
  }
 ],
 "metadata": {
  "language_info": {
   "name": "python"
  }
 },
 "nbformat": 4,
 "nbformat_minor": 2
}
