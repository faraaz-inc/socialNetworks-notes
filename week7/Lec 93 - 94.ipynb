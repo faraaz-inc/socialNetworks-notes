{
 "cells": [
  {
   "cell_type": "markdown",
   "metadata": {},
   "source": [
    "# Lec 93 - Cascade and Clusters"
   ]
  },
  {
   "cell_type": "markdown",
   "metadata": {},
   "source": [
    "- Diffusion of an idea across clusters is called cascade.\n",
    "\n",
    "    ![](../assets/week7/cascade.png)"
   ]
  },
  {
   "cell_type": "markdown",
   "metadata": {},
   "source": [
    "## Threshold"
   ]
  },
  {
   "cell_type": "markdown",
   "metadata": {},
   "source": [
    "- Threshold is the minimum payoff a person needs to make their decision.\n",
    "\n",
    "    ![](../assets/week7/threshold.png)"
   ]
  },
  {
   "cell_type": "markdown",
   "metadata": {},
   "source": [
    "## Density of cluster"
   ]
  },
  {
   "cell_type": "markdown",
   "metadata": {},
   "source": [
    "- Density of a cluster 'd' is such that every node in the cluster has atleast 'd' fraction of their friends in their cluster itself.\n",
    "- E.g., if the density of a cluster is 0.3, then for every node in that cluster must have 30% of its friends within that cluster itself\n",
    "\n",
    "    ![](../assets/week7/density3.png)"
   ]
  },
  {
   "cell_type": "markdown",
   "metadata": {},
   "source": [
    "- If in a network the threshold of adoption is `q`, then the cascade cannot complete itself in the entire network if there exists a cluster with density greater than `1 - q`.\n",
    "\n",
    "    ![](../assets/week7/density4.png)"
   ]
  },
  {
   "cell_type": "markdown",
   "metadata": {},
   "source": [
    "- Lets assume for ex. that the threshold for a network is 40% and there exists a cluster having density greater than 60%.\n",
    "- The nodes in the cluster requires that 40% of its friends must be convinced for it to make a decision, but more than 60% of its friends have already decided otherwise. Hence, the threshold condition can never be reached."
   ]
  },
  {
   "cell_type": "markdown",
   "metadata": {},
   "source": [
    "# Lec 94 - Knowledge, thresholds and the collective action"
   ]
  },
  {
   "cell_type": "markdown",
   "metadata": {},
   "source": [
    "- Lets start with an example\n",
    "- Suppose there's a company, and there are several employees in the company who are divided in clusters, who don't speak much with each other.\n",
    "- Let's say a manager makes a stupid decision and the employees now want to revolt against it, but they are unable to do so.\n",
    "- All the clusters are ready to revolt, but they are skeptical whether other clusters would support them or not.\n",
    "\n",
    "    ![](../assets/week7/clusters.png)"
   ]
  },
  {
   "cell_type": "markdown",
   "metadata": {},
   "source": [
    "- All the clusters want support from the others to start the revolt, but since they don't communicate with each other, none of them are aware that the entire office is ready.\n",
    "- This is called Collective action."
   ]
  }
 ],
 "metadata": {
  "language_info": {
   "name": "python"
  }
 },
 "nbformat": 4,
 "nbformat_minor": 5
}
