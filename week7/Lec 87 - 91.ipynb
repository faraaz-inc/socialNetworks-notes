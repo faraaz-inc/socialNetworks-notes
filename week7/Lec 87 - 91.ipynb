{
 "cells": [
  {
   "cell_type": "markdown",
   "metadata": {},
   "source": [
    "# Lec 87 - We Follow"
   ]
  },
  {
   "cell_type": "markdown",
   "metadata": {},
   "source": [
    "- Humans have a tendency to follow what others are doing around them."
   ]
  },
  {
   "cell_type": "markdown",
   "metadata": {},
   "source": [
    "# Lec 88 - Why do we follow?"
   ]
  },
  {
   "cell_type": "markdown",
   "metadata": {},
   "source": [
    "- Humans have the tendency of following others in hope of gaining something.\n",
    "- It can be materalistic (money, food etc) or non matierialistic gain (informational, etc)."
   ]
  },
  {
   "cell_type": "markdown",
   "metadata": {},
   "source": [
    "# Lec 89 - Diffusion in networks"
   ]
  },
  {
   "cell_type": "markdown",
   "metadata": {},
   "source": [
    "- Imagine a network of friends, there's an edge between two people who talk to each other or kind of follow each other.\n",
    "- If an idea starts from a node, it diffuses through the network as a result of people following each other.\n",
    "\n",
    "    ![](../assets/week7/diffusion.png)"
   ]
  },
  {
   "cell_type": "markdown",
   "metadata": {},
   "source": [
    "# Lec 90 - Modelling Diffusion"
   ]
  },
  {
   "cell_type": "markdown",
   "metadata": {},
   "source": [
    "- Suppose you wake up in the morning and you have two options to spend your day,\n",
    "    - Either you go to the library and finish an assignment\n",
    "    - Or you can go hang out."
   ]
  },
  {
   "cell_type": "markdown",
   "metadata": {},
   "source": [
    "- Now lets include friends,\n",
    "- You have 20 friends and 18 of them are going to the library and 2 of them are going out.\n",
    "- In this case you are likely to go to the library as the cumulative <b>payoff</b> is higher."
   ]
  },
  {
   "cell_type": "markdown",
   "metadata": {},
   "source": [
    "- Payoff of going to the library is higher than hanging out.\n",
    "\n",
    "    ![](../assets/week7/payoff.png)"
   ]
  },
  {
   "cell_type": "markdown",
   "metadata": {},
   "source": [
    "- But the cumulative payoff depends on how many friends you have tagged along with both the options.\n",
    "- Individual payoff of hanging out might be higher, but if majority of your friends are studying in library, the cumulative payoff of studying might turn out to be higher.\n",
    "\n",
    "    ![](../assets/week7/payoff2.png)"
   ]
  },
  {
   "cell_type": "markdown",
   "metadata": {},
   "source": [
    "# Lec 91 - Modelling Diffusion (contd...)"
   ]
  },
  {
   "cell_type": "markdown",
   "metadata": {},
   "source": [
    "- Suppose you have two activies A and B and the payoff associated with them is `a` and `b` resp.\n",
    "- `p` fraction of your friends are doing A and `1 - p` are doing B.\n",
    "- For us to adopt A, the total payoff with A must be higher than the total payoff with B.\n",
    "\n",
    "    ![](../assets/week7/payoff3.png)"
   ]
  },
  {
   "cell_type": "markdown",
   "metadata": {},
   "source": [
    "- So we have a threshold here for p,\n",
    "- If we have to adopt the activity A, <br>\n",
    "    `p >= b / (b + a)` <br>\n",
    "\n",
    "    ![](../assets/week7/payoff4.png)"
   ]
  },
  {
   "cell_type": "markdown",
   "metadata": {},
   "source": [
    "- If for example, most of your friends are studying in library, you will also study in library.\n",
    "- If one person decides to go and hang out, you won't be bothered much.\n",
    "- But if the no. of friends going out crosses the threshold `p`, then you are also likely to go and hang out with them\n",
    "- This phenomenon is called Social Reinforcement.\n",
    "- When more n more people believe an information, we also end to believe that information.\n",
    "\n",
    "    ![](../assets/week7/sr.png)"
   ]
  }
 ],
 "metadata": {
  "language_info": {
   "name": "python"
  }
 },
 "nbformat": 4,
 "nbformat_minor": 2
}
