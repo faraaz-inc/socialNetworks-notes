{
 "cells": [
  {
   "cell_type": "markdown",
   "metadata": {},
   "source": [
    "# Lec 92 - Impact of Communities on Diffusion"
   ]
  },
  {
   "cell_type": "markdown",
   "metadata": {},
   "source": [
    "- If theres a class of 40 people and all of them decides to do an assignment which is due two days later.\n",
    "- Then suddenly two people decide to go out and have fun.\n",
    "- This will trigger a chain reaction when more n more people will start to change their minds and start going out.\n",
    "- How will this network stabilise? Will everyone pack up and head outside or everyone will sit and do the assignment, or a mix of both?"
   ]
  },
  {
   "cell_type": "markdown",
   "metadata": {},
   "source": [
    "- The class can get divided into two parties, one would sit and do the assignment and the other would go out and have fun.\n",
    "\n",
    "    ![](../assets/week7/parties.png)"
   ]
  },
  {
   "cell_type": "markdown",
   "metadata": {},
   "source": [
    "- This is due to weak ties.\n",
    "- If two communities are formed with only a weak tie joining them, then its difficult to propogate the same idea to the other community as the strong ties within the community have already decided something else.\n",
    "\n",
    "    ![](../assets/week7/weakt.png)"
   ]
  },
  {
   "cell_type": "markdown",
   "metadata": {},
   "source": [
    "- In case of a new tech emerging, it is usually difficult to have people on board early on due to the resistance to change.\n",
    "- Its would be beneficial to increase the payoff associated with your product so that more n more people would be lured to try your product.\n",
    "- Or, we can infect few key people with our idea to help with the diffusion.\n",
    "- This technique is called <b> Viral Marketing </b>\n",
    "- Given a network, identify few key people from where an idea can spread very fast."
   ]
  },
  {
   "cell_type": "markdown",
   "metadata": {},
   "source": [
    "- Going back to our previous example of two communities,\n",
    "- We can infect the idea of community 1 to a few key people  of community 2 who can faciliate the spread of the idea within the whole community.\n",
    "- E.g., if you can convice a few key people from the other party to go and have fun, the entire party might pack up their bags and go outside."
   ]
  },
  {
   "cell_type": "markdown",
   "metadata": {},
   "source": [
    "- Does density of a community has anything to do with the spread of an idea?\n",
    "- Density: How well a community is connected\n",
    "- `Density = No. of actual edges / Total no. of possible edges`\n",
    "\n",
    "    ![](../assets/week7/density.png)"
   ]
  },
  {
   "cell_type": "markdown",
   "metadata": {},
   "source": [
    "- Lets say theres an idea floating around the network, and theres a very dense community where its trying to enter.\n",
    "\n",
    "    ![](../assets/week7/density2.png)"
   ]
  },
  {
   "cell_type": "markdown",
   "metadata": {},
   "source": [
    "- It will be very difficult to spread you area inside the community if all of them are well connected within themselves."
   ]
  },
  {
   "cell_type": "markdown",
   "metadata": {},
   "source": [
    "- If these people have decided to work on assignment, it will be very hard to convince them ohterwise.\n",
    "- If there friendship were not that strong, you could have convinced one or two to come outside and then that idea would've spread to other people in the community as well."
   ]
  },
  {
   "cell_type": "markdown",
   "metadata": {},
   "source": [
    "`Denser the coomunity, tougher it is to inject a new idea within them`"
   ]
  }
 ],
 "metadata": {
  "language_info": {
   "name": "python"
  }
 },
 "nbformat": 4,
 "nbformat_minor": 5
}
