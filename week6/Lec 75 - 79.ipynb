{
 "cells": [
  {
   "cell_type": "markdown",
   "id": "16346730",
   "metadata": {},
   "source": [
    "# Lec 75 - The Web Graph"
   ]
  },
  {
   "cell_type": "markdown",
   "id": "89c0ff05",
   "metadata": {},
   "source": [
    "- Let's imagine a scenario in 1990s. The internet is just developing. There's something called `hyperlink`, which takes you to a new page on clicking.\n",
    "- Now we think of a startup idea, there are thousands of web pages, how to find the right one?\n",
    "- This is not a very big problem in the 90s, but it will soon be.\n",
    "- One way is to hire 1000s of people and go through all the pages on the internet and rate them.\n",
    "- Clearly this idea is never going to scale."
   ]
  },
  {
   "cell_type": "markdown",
   "id": "41fe6c44",
   "metadata": {},
   "source": [
    "- Larry Page and Sergey Brin came up with this idea to maintain a `Web Graph`.\n",
    "- Each webpage is connected by a node and hyperlinks represent the edges between the web pages (nodes).\n",
    "\n",
    "    ![](../assets/week6/webgraph.png)"
   ]
  },
  {
   "cell_type": "markdown",
   "id": "ef983534",
   "metadata": {},
   "source": [
    "- Now, how do we get this information?"
   ]
  },
  {
   "cell_type": "markdown",
   "id": "17ab159a",
   "metadata": {},
   "source": [
    "# Lec 76 - Collecting the Web Graph"
   ]
  },
  {
   "cell_type": "markdown",
   "id": "4965f21c",
   "metadata": {},
   "source": [
    "- So how do we collect a web graph?"
   ]
  },
  {
   "cell_type": "markdown",
   "id": "28ce7ae7",
   "metadata": {},
   "source": [
    "- Imagine you are in a new city and you take a car, you just have to explore the city.\n",
    "- At each junction you randomly toss a coin and go in a direction.\n",
    "- Lets say you keep doing this for 1 month. You would've then convered most of the roads in the city."
   ]
  },
  {
   "cell_type": "markdown",
   "id": "1bec8494",
   "metadata": {},
   "source": [
    "\n",
    "- The same approach can also be applied in exploring the web graph."
   ]
  },
  {
   "cell_type": "markdown",
   "id": "bab6d84d",
   "metadata": {},
   "source": [
    "### A quick experiment"
   ]
  },
  {
   "cell_type": "markdown",
   "id": "bebd9941",
   "metadata": {},
   "source": [
    "If we walk through a graph randomly, how much time will it take to explore the complete graph?"
   ]
  },
  {
   "cell_type": "markdown",
   "id": "4c81c1ce",
   "metadata": {},
   "source": [
    "- It turns out that we need approximately `NLogN` no. of walks to explore the entire graph.\n",
    "\n",
    "    ![](../assets/week6/explore.png)"
   ]
  },
  {
   "cell_type": "markdown",
   "id": "4219503c",
   "metadata": {},
   "source": [
    "# Lec 77 - Equal Coin Distribution"
   ]
  },
  {
   "cell_type": "markdown",
   "id": "6b2bea45",
   "metadata": {},
   "source": [
    "- Lets say you are given 30 people with edges between them (directed), and you have to find the most important person in the network."
   ]
  },
  {
   "cell_type": "markdown",
   "id": "0d2e80c7",
   "metadata": {},
   "source": [
    "- Distribute 100 gold coins to each person in the network and ask them to divide their coins to all of their neighbours.\n",
    "- After each iteration of re distribution of coins, the graph will change.\n",
    "- If we keep doing the iterations, the graph will converge to a point and then it won't change.\n",
    "- In that state, the node that has the most no. of coins is the most important (rank 1)."
   ]
  },
  {
   "cell_type": "markdown",
   "id": "e654cbf7",
   "metadata": {},
   "source": [
    "` A node accumulates a lot of gold coins, if their neighbours accumulate a lot of gold coins`"
   ]
  },
  {
   "cell_type": "markdown",
   "id": "e0e951ef",
   "metadata": {},
   "source": [
    "# Lec 78 - Random Coin Dropping"
   ]
  },
  {
   "cell_type": "markdown",
   "id": "c3f39a51",
   "metadata": {},
   "source": [
    "- Start from a random node along with some gold coins.\n",
    "- Go to one of its random neighbours and give them a coin.\n",
    "- If we keep doing this, we'll observe that the gold coins collected by the nodes aren't uniform.\n",
    "- The node which has the maximum no. of gold coins is the most important one (rank 1). And this rank list will be exactly same as in above experiment."
   ]
  },
  {
   "cell_type": "markdown",
   "id": "097acdec",
   "metadata": {},
   "source": [
    "`You are famous if someone famous says you are famous`"
   ]
  },
  {
   "cell_type": "markdown",
   "id": "49d59729",
   "metadata": {},
   "source": [
    "Above statement implies that a web page is highly ranked if it is pointed to highly ranked pages."
   ]
  },
  {
   "cell_type": "markdown",
   "id": "ce04a5ea",
   "metadata": {},
   "source": [
    "# Lec 79 - Google page rank using web graph"
   ]
  },
  {
   "cell_type": "markdown",
   "id": "4abb8948",
   "metadata": {},
   "source": [
    "- Google's web crawlers keep walking the web graph and drop the coins.\n",
    "- The pages that acuumulate more coins are highly ranked."
   ]
  }
 ],
 "metadata": {
  "language_info": {
   "name": "python"
  }
 },
 "nbformat": 4,
 "nbformat_minor": 5
}
