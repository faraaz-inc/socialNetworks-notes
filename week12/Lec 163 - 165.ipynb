{
 "cells": [
  {
   "cell_type": "markdown",
   "id": "1fd0c6a6",
   "metadata": {},
   "source": [
    "# Lec 163 - Coding K shell decomposition"
   ]
  },
  {
   "cell_type": "markdown",
   "id": "3604ae08",
   "metadata": {},
   "source": [
    "# Lec 164 - Coding Cascading Model"
   ]
  },
  {
   "cell_type": "markdown",
   "id": "2ddd1dd6",
   "metadata": {},
   "source": [
    "- To determine the influential nodes in a network"
   ]
  },
  {
   "cell_type": "markdown",
   "id": "6c1f0b29",
   "metadata": {},
   "source": [
    "# Lec 165 - Coding the importance of core nodes in cascading"
   ]
  }
 ],
 "metadata": {
  "language_info": {
   "name": "python"
  }
 },
 "nbformat": 4,
 "nbformat_minor": 5
}
