{
 "cells": [
  {
   "cell_type": "markdown",
   "id": "17547a48",
   "metadata": {},
   "source": [
    "# Lec 150 - Programming illustration: Small world networks"
   ]
  },
  {
   "cell_type": "markdown",
   "id": "27e3f9ec",
   "metadata": {},
   "source": [
    "- 2d Small world network\n",
    "\n",
    "    ![Small world network](../assets/week12/smallWorld.png)"
   ]
  },
  {
   "cell_type": "markdown",
   "id": "d0272a99",
   "metadata": {},
   "source": [
    "- 1D small world network\n",
    "\n",
    "    ![1d](../assets/week12/1dSmallworld.png)"
   ]
  },
  {
   "cell_type": "markdown",
   "id": "b6656bbe",
   "metadata": {},
   "source": [
    "- Adding the long range connections (blue), the diameter of the network decreases.\n",
    "    - Diameter: Longest shortest path\n",
    "\n",
    "    ![](../assets/week12/smallWorldDiameter.png)"
   ]
  }
 ],
 "metadata": {
  "language_info": {
   "name": "python"
  }
 },
 "nbformat": 4,
 "nbformat_minor": 5
}
