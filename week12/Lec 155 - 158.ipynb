{
 "cells": [
  {
   "cell_type": "markdown",
   "id": "0fa6057e",
   "metadata": {},
   "source": [
    "# Lec 155 to 158 - Progarmming illustration: Myopic search introduction"
   ]
  }
 ],
 "metadata": {
  "language_info": {
   "name": "python"
  }
 },
 "nbformat": 4,
 "nbformat_minor": 5
}
