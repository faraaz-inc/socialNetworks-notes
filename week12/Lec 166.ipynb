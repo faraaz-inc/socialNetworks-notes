{
 "cells": [
  {
   "cell_type": "markdown",
   "id": "6a00d894",
   "metadata": {},
   "source": [
    "# Lec 166 - Pseudo Core"
   ]
  },
  {
   "cell_type": "markdown",
   "id": "eb7eeaa7",
   "metadata": {},
   "source": [
    "- If we want our post to become viral, we need to find the key figures in the network and persuade them to promote our post.\n",
    "- But why would they listen?\n",
    "- One option is to pay them a lot of money. But not everyone has this much amount of money to spare.\n",
    "- But there's a smarter approach to this."
   ]
  },
  {
   "cell_type": "markdown",
   "id": "27d3aae5",
   "metadata": {},
   "source": [
    "- The k core buckets that we made, it tells us about the influence level of various nodes in the network.\n",
    "    - The last bucket has the most influential people in the network, and the first bucket has the least.\n",
    "\n",
    "        ![](../assets/week12/buckets.png)\n",
    "- Its very difficult to convince the people in the innermost core."
   ]
  },
  {
   "cell_type": "markdown",
   "id": "b2f3e462",
   "metadata": {},
   "source": [
    "- Alternatively, what we can do is that we pick different shells, and analyse their influential power.\n",
    "- First we choose the innermost shell nodes, infect them and see how well our idea diffused.\n",
    "- Repeat the same procedure for all the shells. This is called the `Cascade capacity` of the shell."
   ]
  },
  {
   "cell_type": "markdown",
   "id": "ad7b7255",
   "metadata": {},
   "source": [
    "- If we plot the graph between shell number and the cascade capacity, we observe that its not linear.\n",
    "- The cascade caapcity first increases as the shell no. increases, it reaches a maximum threshold and does not go beyond that, even for furher shell numbers."
   ]
  },
  {
   "cell_type": "markdown",
   "id": "4eb0f4da",
   "metadata": {},
   "source": [
    "- It means that, to infect a network, its not always necessary to go to the innermost core nodes and try to convince them.\n",
    "- Some shells a little away from the inner most core also have similar cascading capacity.\n",
    "- These nodes are called `Pseudo Cores`"
   ]
  }
 ],
 "metadata": {
  "kernelspec": {
   "display_name": "venv",
   "language": "python",
   "name": "python3"
  },
  "language_info": {
   "name": "python",
   "version": "3.12.3"
  }
 },
 "nbformat": 4,
 "nbformat_minor": 5
}
