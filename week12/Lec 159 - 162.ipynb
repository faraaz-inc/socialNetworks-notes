{
 "cells": [
  {
   "cell_type": "markdown",
   "id": "0977ecf8",
   "metadata": {},
   "source": [
    "# Lec 159 - PseudoCores: Introduction"
   ]
  },
  {
   "cell_type": "markdown",
   "id": "0357c5e5",
   "metadata": {},
   "source": [
    "- Word of mouth through social media is very powerful.\n",
    "- Justin Beiber used to post his singing videos on the internet when suddenly a producer caught his attention, and the rest is history"
   ]
  },
  {
   "cell_type": "markdown",
   "id": "04caf987",
   "metadata": {},
   "source": [
    "# Lec 160 - How to go viral?"
   ]
  },
  {
   "cell_type": "markdown",
   "id": "edaf2c09",
   "metadata": {},
   "source": [
    "- How easy do you think it is to go viral on the web?\n",
    "- It is very difficult as there are hundreds of posts being made everyday. Standing out among them is very difficult.\n",
    "- There are two factors associated to this:\n",
    "    - <b> Quality: </b> How good are your posts/memes\n",
    "    - <b> Structure of the network:</b> Some networks are designed to make everything go viral while others are designed the opposite way\n",
    "- Structure of network is same for everyone.\n",
    "- Here, the idea of `key nodes` comes into the picture\n",
    "- If we want our post to go viral, we may want some key figure to talk about it (Influencer promotions)."
   ]
  },
  {
   "cell_type": "markdown",
   "id": "72e69854",
   "metadata": {},
   "source": [
    "# Lec 161 - Who are the right key nodes?"
   ]
  },
  {
   "cell_type": "markdown",
   "id": "11a67abb",
   "metadata": {},
   "source": [
    "- Should we choose the node with highest degree as our key node?\n",
    "- Or the one which is structurally close to all the nodes in the network?(Closeness centrality)\n",
    "\n",
    "    ![](../assets/week12/closeness.png)\n",
    "- Or should it be the node having highest betweenness? (how good you are in connecting people)\n",
    "\n",
    "    ![](../assets/week12/betweenness.png)"
   ]
  },
  {
   "cell_type": "markdown",
   "id": "2cc3c039",
   "metadata": {},
   "source": [
    "- So how should we choose the right node to infect so that our idea diffuses through the network quickly?"
   ]
  },
  {
   "cell_type": "markdown",
   "id": "69389234",
   "metadata": {},
   "source": [
    "# Lec 162 - Finding the right key node (the core)"
   ]
  },
  {
   "cell_type": "markdown",
   "id": "2e28edfa",
   "metadata": {},
   "source": [
    "- We should be infecting the core nodes of the network. Through them, the idea spreads quickly to the periphery of the network.\n",
    "\n",
    "    ![](../assets/week12/core.png)"
   ]
  },
  {
   "cell_type": "markdown",
   "id": "8d7aa8c0",
   "metadata": {},
   "source": [
    "- But how do we figure out what is the core of a network? What even lies in the core of a network?"
   ]
  },
  {
   "cell_type": "markdown",
   "id": "b896a7ac",
   "metadata": {},
   "source": [
    "- `K Code` : A graph is called `k-core`, if all the nodes in the graph have >= k degrees.\n",
    "\n",
    "    ![](../assets/week12/kcore.png)\n",
    "    \n",
    "    ![](../assets/week12/cores.png)"
   ]
  },
  {
   "cell_type": "markdown",
   "id": "1c736d3d",
   "metadata": {},
   "source": [
    "### K Shell decomposition algorithm"
   ]
  },
  {
   "cell_type": "markdown",
   "id": "3fe5d596",
   "metadata": {},
   "source": [
    "- Lets say we have a network having some balls (nodes).\n",
    "- We take a bucket and label it as `1 core`\n",
    "\n",
    "    ![](../assets/week12/kshell.png)"
   ]
  },
  {
   "cell_type": "markdown",
   "id": "832fb288",
   "metadata": {},
   "source": [
    "- We start by putting all the balls having degree == 1 in this bucket\n",
    "\n",
    "    ![](../assets/week12/kshell2.png)"
   ]
  },
  {
   "cell_type": "markdown",
   "id": "c7846605",
   "metadata": {},
   "source": [
    "- Also keep removing the edges of the plucked balls, then re scan te graph to find more nodes with degree 1 after plucking out previous balls.\n",
    "- Repeat this process until there are no degree 1 balls in your network."
   ]
  },
  {
   "cell_type": "markdown",
   "id": "3f211d55",
   "metadata": {},
   "source": [
    "- Now, when there are no degree 1 balls left, take out a new bucket and label it as degree 2.\n",
    "- Do the exact same process for degree 2 nodes.\n",
    "\n",
    "    ![](../assets/week12/kshell3.png)"
   ]
  },
  {
   "cell_type": "markdown",
   "id": "045a8f88",
   "metadata": {},
   "source": [
    "- When there are no degree 2 balls left, pick a new bucket for 3 core.\n",
    "- Repeat these steps until no balls are left in the network."
   ]
  },
  {
   "cell_type": "markdown",
   "id": "5d7be7bb",
   "metadata": {},
   "source": [
    "- We were interested in finding the core of the network through this algorithm.\n",
    "- The nodes that are removed at the last stage (last core) are called the core of the network.\n",
    "- In short, all the nodes that go in the last bucket compose the core of the network."
   ]
  },
  {
   "cell_type": "markdown",
   "id": "c6b460fb",
   "metadata": {},
   "source": [
    "![](../assets/week12/cores2.png)"
   ]
  },
  {
   "cell_type": "markdown",
   "id": "59a6b4a0",
   "metadata": {},
   "source": [
    "- The `k-core` of this network is given as,\n",
    "    <pre>\n",
    "    1 core = B1 U B2 U B3\n",
    "    2 core = B2 U B3\n",
    "    3 core = B3\n",
    "    </pre>\n",
    "- E.g., in the  core bucket we have all the nodes which are having degree >= 2, hence, these nodes trivially have degree >= 1 as well, so they will also be a part of 2 core."
   ]
  },
  {
   "cell_type": "markdown",
   "id": "a06a2703",
   "metadata": {},
   "source": [
    "- Generalising this formula, we can say that `k-core` of a network is given as,<br><br>\n",
    "    `k-core = B(k) U B(k + 1) U B(k + 3) + ....`"
   ]
  },
  {
   "cell_type": "markdown",
   "id": "da95ea44",
   "metadata": {},
   "source": []
  }
 ],
 "metadata": {
  "language_info": {
   "name": "python"
  }
 },
 "nbformat": 4,
 "nbformat_minor": 5
}
