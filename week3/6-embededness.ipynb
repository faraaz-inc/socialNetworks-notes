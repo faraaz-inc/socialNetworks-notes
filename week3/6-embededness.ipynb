{
 "cells": [
  {
   "cell_type": "markdown",
   "metadata": {},
   "source": [
    "## Embededness"
   ]
  },
  {
   "cell_type": "markdown",
   "metadata": {},
   "source": [
    "- Embededness of a relationship can be quantified by the number of common friends that they have\n",
    "- Higher the embededness, higher the trust in the relationship (not always, will see in next lesson)"
   ]
  }
 ],
 "metadata": {
  "language_info": {
   "name": "python"
  }
 },
 "nbformat": 4,
 "nbformat_minor": 2
}
