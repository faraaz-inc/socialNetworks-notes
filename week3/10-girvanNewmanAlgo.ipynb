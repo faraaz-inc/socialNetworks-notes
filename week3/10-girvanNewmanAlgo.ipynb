{
 "cells": [
  {
   "cell_type": "markdown",
   "metadata": {},
   "source": [
    "## Girvan Newman Algorithm for community detection"
   ]
  },
  {
   "cell_type": "markdown",
   "metadata": {},
   "source": [
    "- Inter community edges tend to have high value of betweenness"
   ]
  },
  {
   "cell_type": "code",
   "execution_count": 1,
   "metadata": {},
   "outputs": [],
   "source": [
    "import networkx as nx"
   ]
  },
  {
   "cell_type": "markdown",
   "metadata": {},
   "source": [
    "### Girvan Newman Algorithm function"
   ]
  },
  {
   "cell_type": "code",
   "execution_count": 13,
   "metadata": {},
   "outputs": [],
   "source": [
    "def edge_to_remove(G):\n",
    "    # get betweenness of all edges of the graph\n",
    "    dict1 = nx.edge_betweenness_centrality(G)\n",
    "    \n",
    "    # (edge, betweenness) tuple\n",
    "    list_of_tuples = list(dict1.items())\n",
    "    list_of_tuples.sort(key = lambda x:x[1], reverse = True)\n",
    "\n",
    "    return list_of_tuples[0][0]"
   ]
  },
  {
   "cell_type": "code",
   "execution_count": 38,
   "metadata": {},
   "outputs": [],
   "source": [
    "def girvan(G):\n",
    "    c = list(nx.connected_components(G))\n",
    "    l = len(c)\n",
    "    print(\"Connected components: \", l)\n",
    "\n",
    "    while(l == 1):\n",
    "        G.remove_edge(*edge_to_remove(G))  # ((a,b)) -> (a,b), * gets the content of the tuple, instead of the tuple\n",
    "        c = list(nx.connected_components(G))\n",
    "        l = len(list(c))\n",
    "        print(\"Connected components: \", l)\n",
    "    \n",
    "    return c"
   ]
  },
  {
   "cell_type": "markdown",
   "metadata": {},
   "source": [
    "### Testing the functions"
   ]
  },
  {
   "cell_type": "code",
   "execution_count": 48,
   "metadata": {},
   "outputs": [],
   "source": [
    "G = nx.barbell_graph(5, 0)"
   ]
  },
  {
   "cell_type": "code",
   "execution_count": 49,
   "metadata": {},
   "outputs": [
    {
     "name": "stdout",
     "output_type": "stream",
     "text": [
      "Connected components:  1\n",
      "Connected components:  2\n"
     ]
    }
   ],
   "source": [
    "c = girvan(G)"
   ]
  },
  {
   "cell_type": "code",
   "execution_count": 50,
   "metadata": {},
   "outputs": [
    {
     "name": "stdout",
     "output_type": "stream",
     "text": [
      "{0, 1, 2, 3, 4}\n",
      "{5, 6, 7, 8, 9}\n"
     ]
    }
   ],
   "source": [
    "for i in c:\n",
    "    print(i)"
   ]
  },
  {
   "cell_type": "markdown",
   "metadata": {},
   "source": [
    "### Testing with Zachary's karate club dataset"
   ]
  },
  {
   "cell_type": "code",
   "execution_count": 51,
   "metadata": {},
   "outputs": [],
   "source": [
    "karate_club_graph = nx.read_pajek(\"../assets/week3/karate.paj\")"
   ]
  },
  {
   "cell_type": "code",
   "execution_count": 52,
   "metadata": {},
   "outputs": [
    {
     "name": "stdout",
     "output_type": "stream",
     "text": [
      "Connected components:  1\n",
      "Connected components:  1\n",
      "Connected components:  1\n",
      "Connected components:  1\n",
      "Connected components:  1\n",
      "Connected components:  1\n",
      "Connected components:  1\n",
      "Connected components:  1\n",
      "Connected components:  1\n",
      "Connected components:  1\n",
      "Connected components:  1\n",
      "Connected components:  2\n"
     ]
    }
   ],
   "source": [
    "c = girvan(karate_club_graph)"
   ]
  },
  {
   "cell_type": "code",
   "execution_count": 53,
   "metadata": {},
   "outputs": [
    {
     "name": "stdout",
     "output_type": "stream",
     "text": [
      "{'22', '18', '6', '7', '4', '5', '8', '20', '13', '2', '17', '11', '14', '1', '12'}\n",
      "{'3', '19', '33', '16', '9', '34', '30', '29', '24', '15', '10', '23', '32', '26', '25', '27', '31', '28', '21'}\n"
     ]
    }
   ],
   "source": [
    "for i in c:\n",
    "    print(i)"
   ]
  }
 ],
 "metadata": {
  "kernelspec": {
   "display_name": "venv",
   "language": "python",
   "name": "python3"
  },
  "language_info": {
   "codemirror_mode": {
    "name": "ipython",
    "version": 3
   },
   "file_extension": ".py",
   "mimetype": "text/x-python",
   "name": "python",
   "nbconvert_exporter": "python",
   "pygments_lexer": "ipython3",
   "version": "3.12.3"
  }
 },
 "nbformat": 4,
 "nbformat_minor": 2
}
