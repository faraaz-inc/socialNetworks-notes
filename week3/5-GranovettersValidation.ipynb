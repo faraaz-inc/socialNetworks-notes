{
 "cells": [
  {
   "cell_type": "markdown",
   "metadata": {},
   "source": [
    "## Validation of Granovetter's experiment"
   ]
  },
  {
   "cell_type": "markdown",
   "metadata": {},
   "source": [
    "- An experimented was conducted using the following assumptions :\n",
    "    - If the calls between two people are for longer durations, they are probably strong ties with high neighbourhood overlaps\n",
    "    - If the calls are shorter, they are probably a weak tie having lower neighbourhood overlap, which in turn can be a local bridge\n",
    "- It turned out that all the above assumptions were correct and the people having shorter calls were actually local bridges"
   ]
  }
 ],
 "metadata": {
  "language_info": {
   "name": "python"
  }
 },
 "nbformat": 4,
 "nbformat_minor": 2
}
