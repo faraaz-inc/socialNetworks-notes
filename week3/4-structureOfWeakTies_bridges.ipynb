{
 "cells": [
  {
   "cell_type": "markdown",
   "metadata": {},
   "source": [
    "## Bridge"
   ]
  },
  {
   "cell_type": "markdown",
   "metadata": {},
   "source": [
    "- The link between A and B is called a bridge. If we remove that edge, the graph becomes disconnected\n",
    "- It is a weak tie as A and B do not have any common friends\n",
    "- If it were a strong tie, A and B must've had more common friends due to **Triadic Closure**"
   ]
  },
  {
   "cell_type": "markdown",
   "metadata": {},
   "source": [
    "![Bridge](../assets/week3/bridge.png)"
   ]
  },
  {
   "cell_type": "markdown",
   "metadata": {},
   "source": [
    "## Weak Bridge"
   ]
  },
  {
   "cell_type": "markdown",
   "metadata": {},
   "source": [
    "- A bridge is called a weak bridge if there exists no triad in it"
   ]
  },
  {
   "cell_type": "markdown",
   "metadata": {},
   "source": [
    "![Weak Bridge](../assets/week3/weak-bridge.png)"
   ]
  },
  {
   "cell_type": "markdown",
   "metadata": {},
   "source": [
    "## Strong Triadic Closure Property"
   ]
  },
  {
   "cell_type": "markdown",
   "metadata": {},
   "source": [
    "- If you have 2 strong ties, it will eventually lead to triad being closed\n",
    "\n",
    "    ![Strong Triadic Closure](../assets/week3/strongTriadicClosure.png)\n",
    "    \n",
    "     The tie between Raj and Raman neet not be a strong tie,   \n",
    "        but atleast they will know each other (weak tie)"
   ]
  },
  {
   "cell_type": "markdown",
   "metadata": {},
   "source": [
    "## Conclusion"
   ]
  },
  {
   "cell_type": "markdown",
   "metadata": {},
   "source": [
    "- **A local bridge is mostly a weak tie.**    \n",
    "If it were a strong tie, the two people will eventually have common friends (or acquaintances) becuase of **Strong Traidic Closure Property**\n",
    "\n",
    "\n",
    "    ![](../assets/week3/localBridge.png)"
   ]
  }
 ],
 "metadata": {
  "language_info": {
   "name": "python"
  }
 },
 "nbformat": 4,
 "nbformat_minor": 2
}
