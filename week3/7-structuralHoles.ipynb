{
 "cells": [
  {
   "cell_type": "markdown",
   "metadata": {},
   "source": [
    "## Structural holes"
   ]
  },
  {
   "cell_type": "markdown",
   "metadata": {},
   "source": [
    "- High embededness usually means more trust (or less mistrust) in a relationship\n",
    "- But in some situations like below, low embededness can be beneficial"
   ]
  },
  {
   "cell_type": "markdown",
   "metadata": {},
   "source": [
    "![Structural Hole](../assets/week3/structuralHole.png)\n",
    "- If Sudarshan wants to contact any real estate agent, he has to go through Ramya\n",
    "- In this case, low embededness between Sudarshan and Ramya can be advantageous to Ramya as she can monopolise the market"
   ]
  }
 ],
 "metadata": {
  "language_info": {
   "name": "python"
  }
 },
 "nbformat": 4,
 "nbformat_minor": 2
}
