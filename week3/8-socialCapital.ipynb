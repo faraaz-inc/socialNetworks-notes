{
 "cells": [
  {
   "cell_type": "markdown",
   "metadata": {},
   "source": [
    "## Social Capital"
   ]
  },
  {
   "cell_type": "markdown",
   "metadata": {},
   "source": [
    "- If Facebook wants you to make new friends, it wno't suggest new friends randomly\n",
    "- It will make sure the posts from them are interesting for you.\n",
    "- In other words, if new edges were to be created in a social network graph, it will be created in a way that the output is at its best. aka., the **Social Capital** is high"
   ]
  },
  {
   "cell_type": "markdown",
   "metadata": {},
   "source": [
    "## Closure vs Brokerage"
   ]
  },
  {
   "cell_type": "markdown",
   "metadata": {},
   "source": [
    "- When friendships cascade down and everyone becomes friends with each other (complete graph), it is called Closure\n",
    "- When there are disjoint communities of friends, its called Brokerage\n",
    "![Closure vs Brokerage](../assets/week3/closureVSBrokerage.png)"
   ]
  },
  {
   "cell_type": "markdown",
   "metadata": {},
   "source": [
    "## Conclusion"
   ]
  },
  {
   "cell_type": "markdown",
   "metadata": {},
   "source": [
    "- Both closure and brokerage can be beneficial depending on what the Social Capital is\n",
    "- In case of Twitter/Instagram, they want you to follow as many people as u can so that you are hooked on to the platform. Here closure yields maximum Social Capital\n",
    "- In case of a football match, brokerage will yield more social capital as the audience need to be divided into groups of their respective teams"
   ]
  }
 ],
 "metadata": {
  "kernelspec": {
   "display_name": "venv",
   "language": "python",
   "name": "python3"
  },
  "language_info": {
   "name": "python",
   "version": "3.12.3"
  }
 },
 "nbformat": 4,
 "nbformat_minor": 2
}
