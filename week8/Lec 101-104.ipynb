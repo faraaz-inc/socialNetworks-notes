{
 "cells": [
  {
   "cell_type": "markdown",
   "metadata": {},
   "source": [
    "## Lec 101: Introduction to Hubs and Authorities (A story)"
   ]
  },
  {
   "cell_type": "markdown",
   "metadata": {},
   "source": [
    "- If we ask a friend for some recommendations and their recommendations don't suit our personality, we're not likely to ask them for another recommendation.\n",
    "- Instead we might ring up another friend.\n",
    "\n",
    "![recommendations](../assets/week8/recommendatins.png)"
   ]
  },
  {
   "cell_type": "markdown",
   "metadata": {},
   "source": [
    "- We tend to rate our acquaintances. When someone gives a good recommendation, we tend to give them more points, and that person's future recommendations are valued higher.\n",
    "\n",
    "    ![Person's rating](../assets/week8/personRating.png)"
   ]
  },
  {
   "cell_type": "markdown",
   "metadata": {},
   "source": [
    "## Lec 102: Principle of Repeated Improvement"
   ]
  },
  {
   "cell_type": "markdown",
   "metadata": {},
   "source": [
    "![Repeated Improvements](../assets/week8/repeatedImprovement.png)"
   ]
  },
  {
   "cell_type": "markdown",
   "metadata": {},
   "source": [
    "- The person recommending, acts as a list of recommendations. If the recommendations are good, people give rating to the lists as well.\n",
    "\n",
    "    ![list](../assets/week8/list.png)\n",
    "- Better rated lists should point to better rated places, and better rated places should be pointed by better rated lists.\n",
    "\n",
    "    ![List 2](../assets/week8/list2.png)\n"
   ]
  },
  {
   "cell_type": "markdown",
   "metadata": {},
   "source": [
    "- If the resource is good, the resource gets a good rating, so does the pointer."
   ]
  },
  {
   "cell_type": "markdown",
   "metadata": {},
   "source": [
    "## Lec 103: An example"
   ]
  },
  {
   "cell_type": "markdown",
   "metadata": {},
   "source": [
    "![repeated improvements](../assets/week8/repeatedImprovementsExample.png)"
   ]
  },
  {
   "cell_type": "markdown",
   "metadata": {},
   "source": [
    "- If we repeatedly apply normalisation on the values of A, B and C. They tend to converge.\n",
    "\n",
    "    ![Repeated Improvements](../assets/week8/repeatedImprovementSpreadsheet.png)\n",
    "    ![Repeated Improvements 2](../assets/week8/repeatedImprovementsSpreadsheet2.png)"
   ]
  },
  {
   "cell_type": "markdown",
   "metadata": {},
   "source": [
    "## Lec 104: Hubs and Authorities"
   ]
  },
  {
   "cell_type": "markdown",
   "metadata": {},
   "source": [
    "![Hubs and Authorities](../assets/week8/hubsAndAuhorities.png)"
   ]
  },
  {
   "cell_type": "markdown",
   "metadata": {},
   "source": [
    "- Hubs are the places where we get information, authorities are the information.\n",
    "- In a graph, each node can be classified as both hubs and authorities."
   ]
  },
  {
   "cell_type": "markdown",
   "metadata": {},
   "source": [
    "- There are two metrix to judge a person in a network,\n",
    "    - Are good people pointing to you\n",
    "    - Are you pointing to good people\n",
    "\n",
    "    ![](../assets/week8/repeatedImprovementInNetwork.png)\n",
    "\n",
    "- We tend to give a person both, the hub score and the authority score"
   ]
  },
  {
   "cell_type": "markdown",
   "metadata": {},
   "source": [
    "- In a graph, if we apply repeated improvements, the nodes' scores converge.\n",
    "\n",
    "    ![](../assets/week8/hnA2.png)"
   ]
  }
 ],
 "metadata": {
  "language_info": {
   "name": "python"
  }
 },
 "nbformat": 4,
 "nbformat_minor": 2
}
