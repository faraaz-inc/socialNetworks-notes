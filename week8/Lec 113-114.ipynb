{
 "cells": [
  {
   "cell_type": "markdown",
   "metadata": {},
   "source": [
    "## Lec 113: Page Rank as a matrix operation"
   ]
  },
  {
   "cell_type": "markdown",
   "metadata": {},
   "source": [
    "![PageRank as matrix operation](../assets/week8/pageRankAsMatrix.png)"
   ]
  },
  {
   "cell_type": "markdown",
   "metadata": {},
   "source": [
    "- What is that matrix which when multiplied by the initial vector, gives the vector on the RHS?\n",
    "\n",
    "![](../assets/week8/pageRankasMatrix2.png)"
   ]
  },
  {
   "cell_type": "markdown",
   "metadata": {},
   "source": [
    "Up until now we have seen that:\n",
    "<ol>\n",
    "<li>For a given network, on starting from 1/3, 1/3, 1/3. It converges</li>\n",
    "<li>We noted that the iterations can be represented as matrix multiplications</li>\n",
    "</ol>\n",
    "\n",
    "To be seen:\n",
    "- Why does it converge?\n",
    "- What does PageRank got to do with all this?"
   ]
  },
  {
   "cell_type": "markdown",
   "metadata": {},
   "source": [
    "## Lec 114: PageRank Explained"
   ]
  },
  {
   "cell_type": "markdown",
   "metadata": {},
   "source": [
    "### Another example\n",
    "\n",
    "![](../assets/week8/prexp.png)\n",
    "\n",
    "![](../assets/week8/prexp2.png)"
   ]
  },
  {
   "cell_type": "markdown",
   "metadata": {},
   "source": [
    "### Why is it converging?"
   ]
  },
  {
   "cell_type": "markdown",
   "metadata": {},
   "source": [
    "![](../assets/week8/prexp3.png)"
   ]
  },
  {
   "cell_type": "markdown",
   "metadata": {},
   "source": [
    "![](../assets/week8/prexp4.png)"
   ]
  },
  {
   "cell_type": "markdown",
   "metadata": {},
   "source": [
    "![](../assets/week8/prexp5.png)"
   ]
  }
 ],
 "metadata": {
  "language_info": {
   "name": "python"
  }
 },
 "nbformat": 4,
 "nbformat_minor": 2
}
