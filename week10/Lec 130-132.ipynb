{
 "cells": [
  {
   "cell_type": "markdown",
   "metadata": {},
   "source": [
    "# Lec 130 - Simple branching process for modelling Epidemics"
   ]
  },
  {
   "cell_type": "markdown",
   "metadata": {},
   "source": [
    "- Lets take a tree like network for simplicity, each node has a 50% chance of infecting its children.\n",
    "\n",
    "    ![](../assets/week10/branching.png)"
   ]
  },
  {
   "cell_type": "markdown",
   "metadata": {},
   "source": [
    "- The expected no. of children that will get infected are,\n",
    "\n",
    "    ![](../assets/week10/branch2.png)"
   ]
  },
  {
   "cell_type": "markdown",
   "metadata": {},
   "source": [
    "- We can generalise this as,\n",
    "\n",
    "    ![](../assets/week10/branch3.png)"
   ]
  },
  {
   "cell_type": "markdown",
   "metadata": {},
   "source": [
    "# Lec 131 - Simple branching process contd..."
   ]
  },
  {
   "cell_type": "markdown",
   "metadata": {},
   "source": [
    "- On extending the above method to multiple levels we get,\n",
    "\n",
    "    ![](../assets/week10/branch4.png)"
   ]
  },
  {
   "cell_type": "markdown",
   "metadata": {},
   "source": [
    "- The no. of people that will be infected at lower levels can be given as,\n",
    "\n",
    "    ![](../assets/week10/branch5.png)"
   ]
  },
  {
   "cell_type": "markdown",
   "metadata": {},
   "source": [
    "`This model is known as the Branching Model`\n",
    "\n",
    "If a disease keeps going down the spiral and infecting people and doesn't die out in the process, then its called an Epidemic."
   ]
  },
  {
   "cell_type": "markdown",
   "metadata": {},
   "source": [
    "Now lets see if we can say whether a disease will turn into an Epidemic or not based on the values of p and k."
   ]
  },
  {
   "cell_type": "markdown",
   "metadata": {},
   "source": [
    "# Lec 132 - Basic reproductive number"
   ]
  },
  {
   "cell_type": "markdown",
   "metadata": {},
   "source": [
    "- The number 'pk' is known as the basic reproductive number `Ro`\n",
    "- If `Ro < 1`, there are less than 1 secondary infections, hence the disease has a very high chance (in fact, a cent percent chance) of dying out early in the spread.\n",
    "\n",
    "    ![](../assets/week10/repr.png)\n",
    "    \n",
    "- If `Ro > 1`, the disease has a high chance (not 100%) of turning into an epidemic. As the connections between the nodes MAY break, thus containing the spread.\n",
    "\n",
    "    ![](../assets/week10/repr2.png)"
   ]
  },
  {
   "cell_type": "markdown",
   "metadata": {},
   "source": [
    "- We can summarise the discussion as follows,\n",
    "    \n",
    "    ![](../assets/week10/repr3.png)"
   ]
  },
  {
   "cell_type": "markdown",
   "metadata": {},
   "source": [
    "- We can play with the values of p and k a little bit to bring down the value of Ro near to 1, so that a disease doesn't become an epidemic.\n",
    "\n",
    "    ![](../assets/week10/repr4.png)"
   ]
  }
 ],
 "metadata": {
  "language_info": {
   "name": "python"
  }
 },
 "nbformat": 4,
 "nbformat_minor": 2
}
