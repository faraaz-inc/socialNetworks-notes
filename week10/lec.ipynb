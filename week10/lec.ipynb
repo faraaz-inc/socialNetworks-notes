{
 "cells": [
  {
   "cell_type": "markdown",
   "metadata": {},
   "source": [
    "# Lec 135 - Comparison between SIR and SIS models"
   ]
  },
  {
   "cell_type": "markdown",
   "metadata": {},
   "source": [
    "## Will this infection/recovery/reinfection process continue infinitely? Or it will stop over time?"
   ]
  },
  {
   "cell_type": "markdown",
   "metadata": {},
   "source": [
    "### In case of SIR Model:\n",
    "\n",
    "- In case of SIR model,  a state is reached eventually where all the nodes are recovered/passed away once from a disease and cannot be reinfected again.\n",
    "- Hence the process stops eventually."
   ]
  },
  {
   "cell_type": "markdown",
   "metadata": {},
   "source": [
    "### In case of SIS Model:\n",
    "\n",
    "- A node goes back to susceptible state after getting infected instead of recovering permanently.\n",
    "- Hence, there's no guarantee that this process will stop. The disease may or may not die out"
   ]
  },
  {
   "cell_type": "markdown",
   "metadata": {},
   "source": [
    "# Lec 136 - Basic reproductive number revisited for complex numbers"
   ]
  },
  {
   "cell_type": "markdown",
   "metadata": {},
   "source": [
    "- We saw that when `Ro < 1` the disease dies out for sure.\n",
    "- When `Ro > 1`, it may or may not die out\n",
    "\n",
    "Will this theory hold in SIR and SIS models?"
   ]
  },
  {
   "cell_type": "markdown",
   "metadata": {},
   "source": [
    "- Lets consider an infinite network having 2 nodes infected initially and `p = 2/3`\n",
    "\n",
    "    ![](../assets/week10/brn.png)"
   ]
  },
  {
   "cell_type": "markdown",
   "metadata": {},
   "source": [
    "- According to the value of `Ro`, this disease is likely to persist, but in reality, its not the case\n",
    "- We can show that this disease will certainly die out"
   ]
  },
  {
   "cell_type": "markdown",
   "metadata": {},
   "source": [
    "- For the disease to be contained at level 1, none of the 4 connections to level 2 shall pass the infection.\n",
    "\n",
    "    ![](../assets/week10/bnr2.png)"
   ]
  },
  {
   "cell_type": "markdown",
   "metadata": {},
   "source": [
    "- The probability of none of thee edges passing on the infection is,\n",
    "\n",
    "    ![](../assets/week10/bnr3.png)"
   ]
  },
  {
   "cell_type": "markdown",
   "metadata": {},
   "source": [
    "- `1/81` is a relatively higher probability when we talk about "
   ]
  }
 ],
 "metadata": {
  "language_info": {
   "name": "python"
  }
 },
 "nbformat": 4,
 "nbformat_minor": 2
}
