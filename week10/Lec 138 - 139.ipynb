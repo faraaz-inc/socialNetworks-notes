{
 "cells": [
  {
   "cell_type": "markdown",
   "id": "6f76aad7",
   "metadata": {},
   "source": [
    "# Lec 138 - Analysis of basic reproductive number in branching model"
   ]
  },
  {
   "cell_type": "markdown",
   "id": "98688d07",
   "metadata": {},
   "source": [
    "## The Problem Statement"
   ]
  },
  {
   "cell_type": "markdown",
   "id": "4cf636c2",
   "metadata": {},
   "source": [
    "- Lets prove that how a disease will die for sure if `Ro` < 1.\n",
    "\n",
    "    ![](../assets/week10/brm.png)"
   ]
  },
  {
   "cell_type": "markdown",
   "id": "e81e5c65",
   "metadata": {},
   "source": [
    "-  Lets say we have a network,\n",
    "- `qn` is the probability that the disease reaches n'th level\n",
    "\n",
    "    ![](../assets/week10/brm2.png)"
   ]
  },
  {
   "cell_type": "markdown",
   "id": "855eb573",
   "metadata": {},
   "source": [
    "- `q*` = `qn` with n -> infinity\n",
    "- if `q*` = 1, disease in epidemic\n",
    "- if `q*` < 1, the disease will die away"
   ]
  },
  {
   "cell_type": "markdown",
   "id": "f6f9eeb2",
   "metadata": {},
   "source": [
    "- To prove\n",
    "    - If `Ro` < 1 , `q*` = 0\n",
    "    - If `Ro` > 1, `q*` > 0"
   ]
  },
  {
   "cell_type": "markdown",
   "id": "4a288941",
   "metadata": {},
   "source": [
    "# Lec 139 - Analysing basic reproductive number 2"
   ]
  },
  {
   "cell_type": "markdown",
   "id": "976cc54a",
   "metadata": {},
   "source": [
    "- For a node at level n to be infected, there must be a path from the top of the tree to the n'th level.\n",
    "- `*` event says that the infection reaches level n through a particular node.\n",
    "- The probability of event `*` can be given as,<br>\n",
    "    <pre>\n",
    "    Pr(*) = p(a children gets infected) x p(from that child, infection reaches level n)\n",
    "          = p x q(n - 1)\n",
    "    </pre>\n",
    "\n",
    "\n",
    "![](../assets/week10/brm3.png)\n",
    "\n"
   ]
  },
  {
   "cell_type": "markdown",
   "id": "7b433285",
   "metadata": {},
   "source": [
    "- `qn` = 1 - Pr(all `*` events fail)\n",
    "\n",
    "    ![](../assets/week10/brm5.png)"
   ]
  },
  {
   "cell_type": "markdown",
   "id": "f9b2d464",
   "metadata": {},
   "source": [
    "- Summary of lecture,\n",
    "\n",
    "    ![](../assets/week10/brm6.png)"
   ]
  }
 ],
 "metadata": {
  "language_info": {
   "name": "python"
  }
 },
 "nbformat": 4,
 "nbformat_minor": 5
}
