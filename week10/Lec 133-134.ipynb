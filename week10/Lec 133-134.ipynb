{
 "cells": [
  {
   "cell_type": "markdown",
   "metadata": {},
   "source": [
    "# Lec 133 - Modelling epidemics on complex networks"
   ]
  },
  {
   "cell_type": "markdown",
   "metadata": {},
   "source": [
    "## SIR Model"
   ]
  },
  {
   "cell_type": "markdown",
   "metadata": {},
   "source": [
    "When you get infected from a disease you pass through 3 phases:\n",
    "- Susceptible\n",
    "- Infected \n",
    "- Recovered"
   ]
  },
  {
   "cell_type": "markdown",
   "metadata": {},
   "source": [
    "SIR Model is used for two types of diseases:\n",
    "- Terminal diseases: Fatal diseases\n",
    "- One-time diseases: A disease which can infect you only once in your lifetime."
   ]
  },
  {
   "cell_type": "markdown",
   "metadata": {},
   "source": [
    "![](../assets/week10/sir.png)\n",
    "\n",
    "`Ti` is the time for which a node remains infected before recovering"
   ]
  },
  {
   "cell_type": "markdown",
   "metadata": {},
   "source": [
    "# Lec 134 - SIR and SIS spreading models"
   ]
  },
  {
   "cell_type": "markdown",
   "metadata": {},
   "source": [
    "Let's simulate the spread of a disease using SIR model, where you only get infected from a disease once and then recover for lifetime.\n",
    "\n",
    "Assuming the value of `Ti = 1`,\n",
    "\n",
    "- initially at t0 day, node 1 gets infected,\n",
    "\n",
    "    ![](../assets/week10/spread.png)\n",
    "\n",
    "- At t1, it infects 3 and 5, and at the end of the day 1 recovers,\n",
    "\n",
    "    ![](../assets/week10/spread3.png)\n",
    "\n",
    "- At t2, node 3 doesn't infect anyone, node 5 infects node 4, and towards the end of t2, node 3 & 5 recover\n",
    "\n",
    "    ![](../assets/week10/spread4.png)\n",
    "\n",
    "- At t3, node 4 doesn't infect anyone and recovers,\n",
    "\n",
    "    ![](../assets/week10/spread6.png)"
   ]
  },
  {
   "cell_type": "markdown",
   "metadata": {},
   "source": [
    "- In another simulation, the disease might not stop without infecting everyone"
   ]
  },
  {
   "cell_type": "markdown",
   "metadata": {},
   "source": [
    "- Also, this model might not work for a disease like common cold where you can get infected again after recovering once, this model is called `SIS Model`\n",
    "    - Susceptible\n",
    "    - Infected\n",
    "    - Susceptible\n",
    "\n",
    "    ![](../assets/week10/sirsis.png)"
   ]
  }
 ],
 "metadata": {
  "language_info": {
   "name": "python"
  }
 },
 "nbformat": 4,
 "nbformat_minor": 2
}
