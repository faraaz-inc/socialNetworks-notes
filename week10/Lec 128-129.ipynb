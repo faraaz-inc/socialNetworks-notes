{
 "cells": [
  {
   "cell_type": "markdown",
   "metadata": {},
   "source": [
    "# Lec 128 - Epidemics, an introduction"
   ]
  },
  {
   "cell_type": "markdown",
   "metadata": {},
   "source": [
    "Lets talk about contagious diseases"
   ]
  },
  {
   "cell_type": "markdown",
   "metadata": {},
   "source": [
    "- Like we observed in cascading behaviour, habits spread on a network.\n",
    "- Similarly, diseases also spread through a network.\n",
    "- Unlike ideas that spread on a network, there's no choice in the spread of a disease. If your friend sneezes on you, you have no choice but to catch the flu. Hence we have less control on the spread.\n",
    "- Also, the diffusion is invisibile in case of a disease. You never actually know from where did you catch a disease."
   ]
  },
  {
   "cell_type": "markdown",
   "metadata": {},
   "source": [
    "Hence we need a different model for the spread of diseases."
   ]
  },
  {
   "cell_type": "markdown",
   "metadata": {},
   "source": [
    "# Lec 129 - Epidemics contd."
   ]
  },
  {
   "cell_type": "markdown",
   "metadata": {},
   "source": [
    "We need two factors to model the spread of a flu through a network.\n",
    "\n",
    "- First is the data on the pathogen, its degree of contagiousness\n",
    "- Second is the network where the pathogen is spreading. If the network is dense, the flu can spread quickly. "
   ]
  }
 ],
 "metadata": {
  "language_info": {
   "name": "python"
  }
 },
 "nbformat": 4,
 "nbformat_minor": 2
}
