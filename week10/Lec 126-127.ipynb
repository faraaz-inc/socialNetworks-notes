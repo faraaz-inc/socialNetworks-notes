{
 "cells": [
  {
   "cell_type": "markdown",
   "metadata": {},
   "source": [
    "# Lec 126 - Rich getting richer, a possible reason"
   ]
  },
  {
   "cell_type": "markdown",
   "metadata": {},
   "source": [
    "- People who have high degree have more tendency to attract more nodes towards them. This hypothesis is validated on data."
   ]
  },
  {
   "cell_type": "markdown",
   "metadata": {},
   "source": [
    "## An experiment\n",
    "- People took 48 songs and allowed people to download them from a portal.\n",
    "- Audience were supposed to download songs from the portal\n",
    "- After some time it was observed that the songs that were downloaded more were gaining even more popularity among the audience.\n",
    "\n",
    "##### A modification\n",
    "- Now if we make multiple portals with the same songs and launch it with a different sets of people.\n",
    "- Then it was observed that the distribution of all the worlds were all different.\n",
    "- Which means that the most popular songs in all the worlds were different."
   ]
  },
  {
   "cell_type": "markdown",
   "metadata": {},
   "source": [
    "- Hence it can be said that good gets better with time.\n",
    "- The chance of a song getting popular at the start is because of luck, and the gets catapulted further because of the initial head start."
   ]
  },
  {
   "cell_type": "markdown",
   "metadata": {},
   "source": [
    "`How can we detect the prudent data after subtracting this advantage of rich getting richer phenomenon is kind of an open question in today's world`"
   ]
  },
  {
   "cell_type": "markdown",
   "metadata": {},
   "source": [
    "`RGR adds noise to the data`"
   ]
  },
  {
   "cell_type": "markdown",
   "metadata": {},
   "source": [
    "# Lec 127 - The Long Tail"
   ]
  },
  {
   "cell_type": "markdown",
   "metadata": {},
   "source": [
    "## More Power Law"
   ]
  },
  {
   "cell_type": "markdown",
   "metadata": {},
   "source": [
    "- Suppose there's a book store, it has a no. of books in each genre.\n",
    "- Why not book stores keep only the best sellers?"
   ]
  },
  {
   "cell_type": "markdown",
   "metadata": {},
   "source": [
    "- Lets plot a graph between the popularity of a book and its sales.\n",
    "- We observe that the graph follows power law.\n",
    "    ![](../assets/week10/morePL.png)"
   ]
  },
  {
   "cell_type": "markdown",
   "metadata": {},
   "source": [
    "What is the total sales of the top 10 most popular books?<br>\n",
    "And what are the sales of the rest?<br>\n",
    "    ![](../assets/week10/bookStore.png)"
   ]
  },
  {
   "cell_type": "markdown",
   "metadata": {},
   "source": [
    "- It can be observed that the best sellers do not necessarily drive most of the sales.\n",
    "- Also, the sellers also have a shelf life, after a few months they might fall back to the low volumes."
   ]
  },
  {
   "cell_type": "markdown",
   "metadata": {},
   "source": [
    "Lets also plot a graph between the no of english words and the frequency of usage of the word.<br>\n",
    "This graph also follows Power Law.<br>\n",
    "    ![](../assets/week10/englishFreq.png)"
   ]
  },
  {
   "cell_type": "markdown",
   "metadata": {},
   "source": [
    "In conclusion, the less popular stuff often dominates the total space because of `The Long Tail` phenomenon."
   ]
  }
 ],
 "metadata": {
  "language_info": {
   "name": "python"
  }
 },
 "nbformat": 4,
 "nbformat_minor": 2
}
