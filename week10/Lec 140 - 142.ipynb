{
 "cells": [
  {
   "cell_type": "markdown",
   "id": "a9a707a0",
   "metadata": {},
   "source": [
    "# Lec 140 - Analyzing basic reproductive number 3"
   ]
  },
  {
   "cell_type": "markdown",
   "id": "1e2cbc98",
   "metadata": {},
   "source": [
    "- So far,\n",
    "\n",
    "    ![](../assets/week10/brm7.png)"
   ]
  },
  {
   "cell_type": "markdown",
   "id": "ff0fdde2",
   "metadata": {},
   "source": [
    "- The probability that the first node will be infected is 1\n",
    "    - `qo` = 1\n",
    "\n",
    "    ![](../assets/week10/brm8.png)"
   ]
  },
  {
   "cell_type": "markdown",
   "id": "7603d6c4",
   "metadata": {},
   "source": [
    "![](../assets/week10/brm9.png)"
   ]
  },
  {
   "cell_type": "markdown",
   "id": "aab3f0a4",
   "metadata": {},
   "source": [
    "# Lec 141 - Analyzing basic reproductive number 4"
   ]
  },
  {
   "cell_type": "markdown",
   "id": "fc82a7a0",
   "metadata": {},
   "source": [
    "![](../assets/week10/brm10.png)"
   ]
  },
  {
   "cell_type": "markdown",
   "id": "a68250ca",
   "metadata": {},
   "source": [
    "![](../assets/week10/brm11.png)"
   ]
  },
  {
   "cell_type": "markdown",
   "id": "33c44e17",
   "metadata": {},
   "source": [
    "![](../assets/week10/brm12.png)"
   ]
  },
  {
   "cell_type": "markdown",
   "id": "1271e5e3",
   "metadata": {},
   "source": [
    "# Lec 142 - Analyzing basic reproductive number 5"
   ]
  },
  {
   "cell_type": "markdown",
   "id": "be06d7b7",
   "metadata": {},
   "source": [
    "![](../assets/week10/brm13.png)"
   ]
  },
  {
   "cell_type": "markdown",
   "id": "67917659",
   "metadata": {},
   "source": [
    "![](../assets/week10/brm14.png)"
   ]
  },
  {
   "cell_type": "markdown",
   "id": "f89134c6",
   "metadata": {},
   "source": [
    "![](../assets/week10/brm15.png)"
   ]
  }
 ],
 "metadata": {
  "language_info": {
   "name": "python"
  }
 },
 "nbformat": 4,
 "nbformat_minor": 5
}
