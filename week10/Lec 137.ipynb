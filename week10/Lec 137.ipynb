{
 "cells": [
  {
   "cell_type": "markdown",
   "id": "5123ad57",
   "metadata": {},
   "source": [
    "# Lec 137 - Percolation Model"
   ]
  },
  {
   "cell_type": "markdown",
   "id": "e674d0b1",
   "metadata": {},
   "source": [
    "- Another way to analyze the diffusion models."
   ]
  },
  {
   "cell_type": "markdown",
   "id": "8608e42f",
   "metadata": {},
   "source": [
    "- Lets say we had this SIR model as shown below,\n",
    "- We'll try to remove the notion of time from this model and make it static\n",
    "\n",
    "    ![](../assets/week10/percolation.png)"
   ]
  },
  {
   "cell_type": "markdown",
   "id": "307b13f8",
   "metadata": {},
   "source": [
    "- Initially, the topmost node is infected and we want to check whether the bottom most node will get the infection or not.\n",
    "- We label the edges in our network the following way\n",
    "\n",
    "    ![](../assets/week10/percolation2.png)"
   ]
  },
  {
   "cell_type": "markdown",
   "id": "f2a692cd",
   "metadata": {},
   "source": [
    "- The above network has 14 edges\n",
    "- Now, instead of iterating time wise, we'll flip the coin 14 times\n",
    "\n",
    "    ![](../assets/week10/percolation3.png)"
   ]
  },
  {
   "cell_type": "markdown",
   "id": "a99b2057",
   "metadata": {},
   "source": [
    "- The edges having Head are open, and the infection can pass through them.\n",
    "- To analyse whether a node will get infected or not, just look if there's any open path to the node, if there is, then that node will get infected towards the end.\n",
    "\n",
    "    ![](../assets/week10/percolation4.png)"
   ]
  }
 ],
 "metadata": {
  "language_info": {
   "name": "python"
  }
 },
 "nbformat": 4,
 "nbformat_minor": 5
}
