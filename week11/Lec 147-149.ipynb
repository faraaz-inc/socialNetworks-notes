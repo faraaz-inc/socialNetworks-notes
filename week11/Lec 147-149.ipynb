{
 "cells": [
  {
   "cell_type": "markdown",
   "id": "94c9a8d1",
   "metadata": {},
   "source": [
    "# Lec 147 - Decentralized search I"
   ]
  },
  {
   "cell_type": "markdown",
   "id": "c63ad91d",
   "metadata": {},
   "source": [
    "- The Milgram's experiment is actually a Search model.\n",
    "- A person at the start doesn't have any clue about the future connections, they only know about their connections.\n",
    "- They greedily pass the letter on to a pluasible friend in their local group in the hope that it reaches the destination eventually.\n",
    "- How exactly does this work? "
   ]
  },
  {
   "cell_type": "markdown",
   "id": "93b46e2e",
   "metadata": {},
   "source": [
    "# Lec 148 - Decentralized seach II"
   ]
  },
  {
   "cell_type": "markdown",
   "id": "4218cccc",
   "metadata": {},
   "source": [
    "- When a person choses another person to pass on the letter, they choose it in such a way that the person is closer to the destination, or they might be located in another country where the destination is(weak ties).\n",
    "\n",
    "    ![](../assets/week11/ds.png)"
   ]
  },
  {
   "cell_type": "markdown",
   "id": "881f28c2",
   "metadata": {},
   "source": [
    "### The search algorithm\n",
    "- Suppose you are asked to go from s to t\n",
    "- You will start from s, and will try to find the node closer to t.\n",
    "- And the process repeats until we reach a direct connection to t."
   ]
  },
  {
   "cell_type": "markdown",
   "id": "2c083522",
   "metadata": {},
   "source": [
    "- Now think of this, suppose you are in India and you have to send a letter to Australia.\n",
    "- You have majority of your friends in India, but some of your friends are in UK.\n",
    "- What to do in such a scenario? If you send your letter to UK, it will go further away from the destination. The random re wiring may not always take you closer to your destination.\n",
    "- But this doesn't happen."
   ]
  },
  {
   "cell_type": "markdown",
   "id": "c6c89b52",
   "metadata": {},
   "source": [
    "- When we make friends, we make most of them who are within out locality. And some who are away from us.\n",
    "- Lets define what these away friends can be."
   ]
  },
  {
   "cell_type": "markdown",
   "id": "49c297cf",
   "metadata": {},
   "source": [
    "- The probability of some node being your connection is inversely proportional to the distance between you and them raised to the power `k`, where `k = 0,1,2,3....`\n",
    "    ![](../assets/week11/probability.png)\n",
    "- Hence, the further a node is, the less probable it is of being a friend."
   ]
  },
  {
   "cell_type": "markdown",
   "id": "8f876914",
   "metadata": {},
   "source": [
    "### Bus Routes\n",
    "- Suppose if we were to design the bus network of a city, we would try to cover in the manner of concentric circles, making sure there are buses for every concentric circle.\n",
    "    \n",
    "    ![](../assets/week11/bus.png)"
   ]
  },
  {
   "cell_type": "markdown",
   "id": "a3e7936e",
   "metadata": {},
   "source": [
    "- Suppose we were to design the routes of a metro or a bus network, how should we place the stations?\n",
    "- Very near to one another or far away from one another?\n",
    "\n",
    "    ![](../assets/week11/busNetwork.png)"
   ]
  },
  {
   "cell_type": "markdown",
   "id": "4b95d2dc",
   "metadata": {},
   "source": [
    "- Create a small world network, having a re-wiring probability p.\n",
    "- We want to go travel between any two nodes in this network, and we want our edges to facilitate this.\n",
    "- So, we will add edges near to one another along "
   ]
  },
  {
   "cell_type": "markdown",
   "id": "7ecffed4",
   "metadata": {},
   "source": [
    "- Imagine a 100x100 small world network, having the probability of a node being a friend as `1/d^k`\n",
    "- What should be the value of `k`?"
   ]
  },
  {
   "cell_type": "markdown",
   "id": "0aaabc59",
   "metadata": {},
   "source": [
    "- Plotting the graph of distance (or no. of hops) vs k, we get\n",
    "    ![](../assets/week11/k.png)"
   ]
  },
  {
   "cell_type": "markdown",
   "id": "b4dd0b7c",
   "metadata": {},
   "source": [
    "- Having `k = 2` gives the minimum distance (or the no. of hops to reach) as minimum."
   ]
  }
 ],
 "metadata": {
  "language_info": {
   "name": "python"
  }
 },
 "nbformat": 4,
 "nbformat_minor": 5
}
