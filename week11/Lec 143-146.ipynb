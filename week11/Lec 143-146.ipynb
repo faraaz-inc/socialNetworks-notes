{
 "cells": [
  {
   "cell_type": "markdown",
   "id": "6a6be8a0",
   "metadata": {},
   "source": [
    "# Lec 143 - Small world effect"
   ]
  },
  {
   "cell_type": "markdown",
   "id": "ae5b505f",
   "metadata": {},
   "source": [
    "- If we randomly pick 2 people from the world, on an avg, both of them will be connected in 6 hops.\n",
    "- In other words, if we draw a graph of the world with all the people as nodes, the graph will be connected having an avg distance between any two nodes as 6."
   ]
  },
  {
   "cell_type": "markdown",
   "id": "b172dde2",
   "metadata": {},
   "source": [
    "# Lec 144 - Milgram's experiment"
   ]
  },
  {
   "cell_type": "markdown",
   "id": "004b3b0c",
   "metadata": {},
   "source": [
    "- Milgram chose a person P1 and told them to deliver a letter to a person named P2, whom P1 didn't know.\n",
    "- Address to P2 is given on the envelope but P1 cannot mail it directly, he instead has to give the letter to someone who might know P2, and they have to repeat the same until the letter gets in the hand of someone who knows P2, and then it can be delivered."
   ]
  },
  {
   "cell_type": "markdown",
   "id": "9611770e",
   "metadata": {},
   "source": [
    "- Milgram observed that on an avg the letter was delivered in 6 hops."
   ]
  },
  {
   "cell_type": "markdown",
   "id": "5d0c49c4",
   "metadata": {},
   "source": [
    "This might slightly look counter intutive as there are roughly 6 billion people in the world."
   ]
  },
  {
   "cell_type": "markdown",
   "id": "16c7a3c4",
   "metadata": {},
   "source": [
    "- Assume if you have a 100 friends, and they all have 100 friends each, and the tree goes on.\n",
    "- At the 10th level, you will have around `10^10` connections, which is much higher than the world's population."
   ]
  },
  {
   "cell_type": "markdown",
   "id": "b89e2401",
   "metadata": {},
   "source": [
    "Hence it is not that counter intuitive after all"
   ]
  },
  {
   "cell_type": "markdown",
   "id": "1078a195",
   "metadata": {},
   "source": [
    "# Lec 145 - The Reason"
   ]
  },
  {
   "cell_type": "markdown",
   "id": "5e43e445",
   "metadata": {},
   "source": [
    "- In 1998 this experiemnt was re conducted over the e-mail network.\n",
    "- Watts and Strogatz proposed two concepts because of which this probably was happening:\n",
    "    - Homophily\n",
    "    - Weak ties"
   ]
  },
  {
   "cell_type": "markdown",
   "id": "db9025dc",
   "metadata": {},
   "source": [
    "- They proposed that the network of a person is grid-like. You will have more friends who are geographically close to you, along with some friends who are away from you.\n",
    "- This is what is leading to the small world phenomenon.\n",
    "    ![](../assets/week11/reason.png)"
   ]
  },
  {
   "cell_type": "markdown",
   "id": "d91ee9e3",
   "metadata": {},
   "source": [
    "- In the experiment, when someone tries to pass the letter to another person, they don't chose the person randomly. Instead they try to pass the letter to someone who are close to the destination.\n",
    "    ![](../assets/week11/letter.png)"
   ]
  },
  {
   "cell_type": "markdown",
   "id": "68c91323",
   "metadata": {},
   "source": [
    "- Hence, it is mainly due to those small no. of friends who are away from you that lead to the small world phenomenon."
   ]
  },
  {
   "cell_type": "markdown",
   "id": "3d5add0e",
   "metadata": {},
   "source": [
    "# Lec 146 - Watts & Strogatz Generative model"
   ]
  },
  {
   "cell_type": "markdown",
   "id": "687d5dab",
   "metadata": {},
   "source": [
    "- A model to construct graphs having the above said two properties, Homophility and Weak ties.\n",
    "- Steps to construct the graph:\n",
    "    - Place the nodes in a circular manner\n",
    "    - Start drawing edges between nearby nodes.\n",
    "    - Ater that, randomly rewire some of the edges.\n",
    "- The result would be a small world network.\n",
    "    ![](../assets/week11/generativeModel.png)"
   ]
  }
 ],
 "metadata": {
  "language_info": {
   "name": "python"
  }
 },
 "nbformat": 4,
 "nbformat_minor": 5
}
